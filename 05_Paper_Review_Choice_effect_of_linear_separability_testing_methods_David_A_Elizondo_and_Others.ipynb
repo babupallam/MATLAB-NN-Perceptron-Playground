{
  "nbformat": 4,
  "nbformat_minor": 0,
  "metadata": {
    "colab": {
      "provenance": [],
      "toc_visible": true,
      "authorship_tag": "ABX9TyOhpUi5YUyGZLbfIu8B5q0a",
      "include_colab_link": true
    },
    "kernelspec": {
      "name": "python3",
      "display_name": "Python 3"
    },
    "language_info": {
      "name": "python"
    }
  },
  "cells": [
    {
      "cell_type": "markdown",
      "metadata": {
        "id": "view-in-github",
        "colab_type": "text"
      },
      "source": [
        "<a href=\"https://colab.research.google.com/github/babupallam/Msc_AI_Module1_Neural_Systems/blob/main/05_Paper_Review_Choice_effect_of_linear_separability_testing_methods_David_A_Elizondo_and_Others.ipynb\" target=\"_parent\"><img src=\"https://colab.research.google.com/assets/colab-badge.svg\" alt=\"Open In Colab\"/></a>"
      ]
    },
    {
      "cell_type": "markdown",
      "source": [
        "**Title**: *Choice effect of linear separability testing methods on constructive neural network algorithms: An empirical study*\n",
        "\n",
        "**Authors**:\n",
        "- David A. Elizondo, Centre for Computational Intelligence, De Montfort University, UK\n",
        "- J.M. Ortiz-de-Lazcano-Lobato, University of Málaga, Spain\n",
        "- Ralph Birkenhead, De Montfort University, UK\n",
        "\n",
        "**Aim of the Paper**:\n",
        "The paper investigates the impact of different linear separability testing methods on the performance of constructive neural network algorithms, specifically those that convert non-linearly separable (NLS) classification problems into linearly separable (LS) ones. The study focuses on the effects of these methods on the **topology size**, **convergence time**, and **generalization performance** of neural networks.\n",
        "\n",
        "**Proposals**:\n",
        "1. The study compares six methods for testing linear separability, including four exact methods (Simplex, Convex Hull, Support Vector Machine, Perceptron) and two approximative methods (Anderson, Fisher).\n",
        "2. The Recursive Deterministic Perceptron (RDP) algorithm is the primary focus, as it can deterministically separate classes even when they are not linearly separable using a simple Perceptron.\n",
        "3. The performance of the RDP is evaluated using three learning methods: Batch, Incremental, and Modular.\n",
        "\n",
        "**Benchmark Datasets**:\n",
        "- Nine machine learning benchmarks were used, including popular datasets like **Iris**, **Soybean**, and **Wisconsin Breast Cancer**.\n",
        "\n",
        "**Key Findings**:\n",
        "- The choice of the method for testing linear separability has significant effects on the **convergence time**, **network topology**, and **generalization performance**.\n",
        "- Exact methods tend to provide more accurate results but at the cost of longer convergence times, while approximative methods offer faster but less precise results.\n",
        "\n",
        "**Conclusion**:\n",
        "The paper highlights the trade-offs between different methods for testing linear separability and their effects on constructive neural networks. It also suggests that the choice of method should be influenced by the specific requirements of the classification task, such as the need for accuracy versus the importance of computational efficiency.\n",
        "\n",
        "This summary captures the essential aspects of the paper, including its focus on neural network algorithms, the comparison of methods, and its empirical findings."
      ],
      "metadata": {
        "id": "9jyS791wtAR5"
      }
    },
    {
      "cell_type": "markdown",
      "source": [
        "# Detailed Review"
      ],
      "metadata": {
        "id": "XLy5U0jLtAOg"
      }
    },
    {
      "cell_type": "markdown",
      "source": [
        "### **1. Introduction**\n",
        "\n",
        "This section introduces the problem of testing **linear separability** in classification problems and discusses how different algorithms for testing linear separability can affect the performance of neural network models. Specifically, it focuses on how these methods impact the **Recursive Deterministic Perceptron (RDP)** neural network model, which was designed to solve both linearly separable (LS) and non-linearly separable (NLS) classification problems.\n",
        "\n",
        "\n",
        "#### **1.1 Background and Importance**\n",
        "\n",
        "- **Linear separability**: The ability to separate two or more classes of data points with a hyperplane.\n",
        "  - **Simple Perceptron**: The standard Perceptron algorithm can only handle linearly separable data. When the data is not linearly separable, more complex algorithms, like the RDP, are needed.\n",
        "  \n",
        "- **Recursive Deterministic Perceptron (RDP)**:\n",
        "  - **Introduced by Tajine & Elizondo** (1996), the RDP is capable of deterministically separating two or more classes, even if the classes are not linearly separable by a simple Perceptron.\n",
        "  - The RDP constructs a solution by augmenting the input vector with outputs from a sequence of intermediate neurons.\n",
        "  - These neurons correspond to single-layer Perceptrons, and each neuron separates a linearly separable subset from the remaining points.\n",
        "\n",
        "#### **1.2 Problem Statement**\n",
        "\n",
        "- The paper addresses the **impact of different linear separability testing methods** on the performance of the RDP neural network in terms of:\n",
        "  - **Topology size**: How many neurons are required to achieve separation.\n",
        "  - **Convergence time**: How fast the algorithm finds a solution.\n",
        "  - **Generalization ability**: How well the trained model performs on unseen data.\n",
        "\n",
        "#### **1.3 Learning Methods in RDP Neural Networks**\n",
        "\n",
        "- The **Batch, Incremental, and Modular methods** are the three primary ways to construct an RDP neural network. These methods were introduced by Tajine and Elizondo (1998):\n",
        "  - **Batch Method**: This method is NP-complete but produces smaller network topologies. It searches for linearly separable subsets of the data and progressively adds neurons to separate these subsets.\n",
        "  - **Incremental Method**: Selected for this study, this method adds neurons one by one in polynomial time to create a multilayer perceptron. Although the topologies it produces are larger, it is more computationally efficient.\n",
        "  - **Modular Method**: Breaks down the problem into smaller subproblems, solving them independently to build the network. This also offers polynomial time complexity.\n",
        "\n",
        "#### **1.4 Objective of the Paper**\n",
        "\n",
        "- **Empirical Study**: The paper presents an empirical study to evaluate the effects of different linear separability testing methods on RDP networks using several machine learning benchmarks.\n",
        "- **Benchmark Datasets**: Nine standard machine learning datasets were used, including Iris, Soybean, Wisconsin Breast Cancer, and others. Additionally, the performance of the RDP networks was compared to backpropagation and Cascade Correlation networks.\n",
        "\n",
        "---\n"
      ],
      "metadata": {
        "id": "0-Lw7YdqtALo"
      }
    },
    {
      "cell_type": "markdown",
      "source": [
        "\n",
        "### **2. Methods for Testing Linear Separability**\n",
        "\n",
        "This section explains various methods used for testing **linear separability** of two data classes. Linear separability means that two sets of data can be separated by a hyperplane in a multi-dimensional space. The goal of this section is to explain the methods used in the study to test for linear separability, as these methods affect the performance of **Recursive Deterministic Perceptron (RDP)** networks.\n",
        "\n"
      ],
      "metadata": {
        "id": "SEZGP2a_tAIc"
      }
    },
    {
      "cell_type": "markdown",
      "source": [
        "#### **2.1 Definition of Linear Separability**\n",
        "\n",
        "![image.png](data:image/png;base64,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)\n",
        "\n"
      ],
      "metadata": {
        "id": "rmbrKoqEtAFd"
      }
    },
    {
      "cell_type": "markdown",
      "source": [
        "#### **2.2 Methods for Testing Linear Separability**\n",
        "\n",
        "The methods for testing linear separability are grouped into five categories:\n",
        "\n",
        "- **Methods based on solving systems of linear equations**:\n",
        "  - **Simplex Algorithm**: The classification problem is represented as a set of linear equations. If the classes are linearly separable, the Simplex algorithm provides a solution to the equations.\n",
        "  - **Fourier–Kuhn elimination algorithm**: Another method for solving systems of linear equations to find a separating hyperplane.\n",
        "\n",
        "- **Computational Geometry Techniques**:\n",
        "  - **Convex Hull Algorithm**: Determines whether the convex hulls of the two classes intersect. If the convex hulls do not intersect, the classes are linearly separable.\n",
        "  - **Class of Linear Separability Method**: This method characterizes the set of hyperplanes that separate two classes.\n",
        "\n",
        "- **Neural Network-Based Methods**:\n",
        "  - **Perceptron Learning Algorithm**: This algorithm finds a separating hyperplane if the two classes are linearly separable. However, it does not converge if the classes are not linearly separable.\n",
        "\n",
        "- **Quadratic Programming Methods**:\n",
        "  - **Support Vector Machines (SVM)**: Solves a quadratic optimization problem to find a hyperplane that maximally separates two classes.\n",
        "\n",
        "- **Fisher’s Linear Discriminant Method**:\n",
        "  - Finds a linear combination of input variables that maximizes the separation between the projections of two classes while minimizing the within-class variance.\n",
        "\n"
      ],
      "metadata": {
        "id": "C3ZGhpv3tACK"
      }
    },
    {
      "cell_type": "markdown",
      "source": [
        "#### **2.3 Relevance of Simplex Algorithm for RDP**\n",
        "\n",
        "- The **Simplex algorithm** is the preferred method for testing linear separability in the context of this study.\n",
        "  - It is robust, does not require user-defined parameters, and can confirm when no separating hyperplane exists.\n",
        "  - This method is used to determine whether a hyperplane can separate the data classes before constructing the RDP network.\n",
        "  \n",
        "---\n"
      ],
      "metadata": {
        "id": "WUAtOWSjs__K"
      }
    },
    {
      "cell_type": "markdown",
      "source": [
        "### **3. Methods for Testing Linear Separability**\n",
        "\n",
        "This section explains the various methods used for testing **linear separability** and their impact on the Recursive Deterministic Perceptron (RDP) networks. Six different methods are discussed, grouped into **exact methods** and **approximative methods**. These methods are evaluated based on their ability to accurately determine linear separability in multi-class classification problems and how they influence the performance of neural networks.\n",
        "\n",
        "#### **3.1 Exact Methods for Testing Linear Separability**\n",
        "\n",
        "- **Simplex Algorithm**:\n",
        "  - This is one of the most popular methods for solving linear programming problems.\n",
        "  - It can determine whether two classes are linearly separable by solving a system of linear equations.\n",
        "  - The Simplex algorithm ensures convergence when the classes are separable and can confirm when no separating hyperplane exists.\n",
        "\n",
        "- **Convex Hull Algorithm**:\n",
        "  - Involves determining if the convex hulls of two classes intersect.\n",
        "  - If the convex hulls do not intersect, the classes are linearly separable.\n",
        "  - The method constructs a series of vectors that form a hyperplane to separate the classes.\n",
        "\n",
        "- **Perceptron Learning Algorithm**:\n",
        "  - If two classes are linearly separable, the Perceptron algorithm guarantees convergence and finds the separating hyperplane after a finite number of steps.\n",
        "  - It is not suitable when classes are non-linearly separable (NLS), as it does not converge.\n",
        "\n",
        "- **Support Vector Machine (SVM)**:\n",
        "  - Uses quadratic programming to find the hyperplane that maximally separates the two classes.\n",
        "  - It solves a constrained optimization problem to determine the optimal hyperplane.\n",
        "\n",
        "\n",
        "#### **3.2 Approximative Methods for Testing Linear Separability**\n",
        "\n",
        "- **Anderson’s Method**:\n",
        "  - Based on the assumption that data points follow a **multivariate Gaussian distribution**.\n",
        "  - Attempts to find a hyperplane that separates the classes with the least misclassification error.\n",
        "  \n",
        "- **Fisher Linear Discriminant Method**:\n",
        "  - Tries to find a linear combination of input variables that maximizes the separation of two classes while minimizing the within-class variance.\n",
        "  - Does not impose a specific distribution, and unlike the exact methods, it does not always produce a fully separable solution.\n",
        "\n",
        "\n",
        "#### **3.3 Analysis of the Methods**\n",
        "\n",
        "- **Exact Methods**:\n",
        "  - They are reliable for determining whether a solution exists (i.e., whether the classes are separable or not).\n",
        "  - The **Simplex algorithm** stands out as the most robust method, offering strong results in convergence time and topology size.\n",
        "  - SVM and Convex Hull methods also perform well, with SVM providing a robust solution, especially in high-dimensional spaces.\n",
        "\n",
        "- **Approximative Methods**:\n",
        "  - These methods do not guarantee a 100% accurate separation between classes.\n",
        "  - They can be faster than exact methods but are less reliable, particularly for complex datasets.\n",
        "  - **Anderson's method** outperforms Fisher's method in terms of speed and accuracy, but both struggle with generalization and topology size when compared to exact methods.\n",
        "\n",
        "---\n"
      ],
      "metadata": {
        "id": "JsGuZhFys_8c"
      }
    },
    {
      "cell_type": "markdown",
      "source": [
        "### **4. Performance Comparison Procedure**\n",
        "\n",
        "This section describes the methodology used to compare the performance of Recursive Deterministic Perceptron (RDP) networks built using different linear separability testing methods. The comparison focuses on **convergence time**, **generalization capacity**, and **topology size** (the number of intermediate neurons required). The section also details the **benchmark datasets** used and the **experimental setup**.\n",
        "\n",
        "\n",
        "#### **4.1 Benchmark Datasets**\n",
        "\n",
        "Nine standard machine learning benchmark datasets were selected for the performance evaluation. The benchmarks used in this study include:\n",
        "- **Iris dataset**: Used to classify three species of iris plants based on four attributes (e.g., sepal length, sepal width).\n",
        "  - The dataset contains 150 samples, but only the samples for **Iris Versicolour** and **Iris Virginica** (100 samples total) are non-linearly separable and were used for this experiment.\n",
        "\n",
        "- **Soybean dataset**: Contains symptom data for diagnosing soybean crop diseases.\n",
        "  - This dataset was reduced to a binary classification task using 40 samples for each of three diseases (brown spot, alternaria leaf spot, frog-eye leaf spot).\n",
        "  \n",
        "- **Wisconsin Breast Cancer dataset**: A binary classification problem to distinguish between **benign** and **malignant** breast cancer.\n",
        "  - Contains 699 samples, with a class distribution of 458 benign and 241 malignant cases, based on nine attributes.\n",
        "\n",
        "- Additional datasets: **Glass**, **Hepatitis**, **Wine**, **Ionosphere**, **Sonar**, and the **third MONK's problem** were also included in the performance comparison.\n",
        "\n",
        "#### **4.2 Cross-Validation and Experimental Setup**\n",
        "\n",
        "- **Cross-validation**: The technique of 10-fold cross-validation was applied to ensure robust results. The datasets were split into 10 equal-sized subsets, where 60% of the data was used for training and 40% for testing in some benchmarks (e.g., Iris), while other datasets used a 90% training and 10% testing split.\n",
        "  \n",
        "- **Neural Networks Built**:\n",
        "  - For each dataset, 10 different RDP neural networks were constructed using different combinations of the test and training sets.\n",
        "  - These RDP networks were compared with results obtained using **backpropagation** and **Cascade Correlation** algorithms for the Iris, Soybean, and Wisconsin Breast Cancer datasets.\n",
        "  \n",
        "\n",
        "\n",
        "#### **4.3 Comparison Metrics**\n",
        "\n",
        "Three primary metrics were used to evaluate the performance of the RDP networks:\n",
        "\n",
        "1. **Convergence Time**:\n",
        "   - Measured as the time required for each RDP network to complete training and reach a solution.\n",
        "   - The faster the convergence, the better the method’s performance, especially for larger datasets.\n",
        "  \n",
        "2. **Generalization Capacity**:\n",
        "   - Measured as the percentage of well-classified samples in unseen data (test sets). Higher generalization indicates better performance on new, unseen data.\n",
        "\n",
        "3. **Topology Size**:\n",
        "   - Refers to the number of **intermediate neurons (INs)** added to the RDP network to transform non-linearly separable problems into linearly separable ones. A smaller topology size implies a more efficient network.\n",
        "\n",
        "\n",
        "\n",
        "#### **4.4 Focus on Exact and Approximative Methods**\n",
        "\n",
        "The RDP networks were constructed using six different methods for testing linear separability, categorized into **exact** and **approximative** methods:\n",
        "- **Exact Methods**:\n",
        "  - **Simplex**, **Convex Hull**, **Support Vector Machines (SVM)**, and **Perceptron**.\n",
        "  \n",
        "- **Approximative Methods**:\n",
        "  - **Anderson's Method** and **Fisher's Linear Discriminant**.\n",
        "  \n",
        "These methods were compared to determine their impact on the performance of the RDP networks in terms of the three metrics listed above.\n",
        "\n",
        "---\n"
      ],
      "metadata": {
        "id": "URe_ni9Ys_5v"
      }
    },
    {
      "cell_type": "markdown",
      "source": [
        "### **5. Results and Discussion**\n",
        "\n",
        "This section presents the comparison of the Recursive Deterministic Perceptron (RDP) construction methods, focusing on their **convergence time**, **generalization capability**, and **topology size** across different linear separability testing methods. The results are shown for the various methods, datasets, and RDP models.\n",
        "\n",
        "\n",
        "#### **5.1 Overview of the Results**\n",
        "\n",
        "- The results are presented across three main metrics:\n",
        "  1. **Convergence Time**: How quickly the RDP neural network reaches a solution.\n",
        "  2. **Generalization Capability**: The percentage of correctly classified test samples (i.e., performance on unseen data).\n",
        "  3. **Topology Size**: The number of intermediate neurons (INs) required to convert a non-linearly separable (NLS) problem into a linearly separable (LS) one.\n",
        "\n",
        "\n",
        "#### **5.2 Exact vs. Approximative Methods**\n",
        "\n",
        "- The linear separability testing methods are divided into two groups:\n",
        "  - **Exact Methods**: These include Simplex, Convex Hull, Support Vector Machines (SVM), and Perceptron methods.\n",
        "  - **Approximative Methods**: These include Anderson and Fisher’s linear discriminant methods.\n",
        "\n",
        "- **Key Findings**:\n",
        "  - **Exact Methods**:\n",
        "    - **Simplex** outperformed other methods in terms of **convergence time** and **topology size**, showing superior performance across most datasets.\n",
        "    - Although there was no clear overall winner in terms of **generalization**, Simplex consistently provided good results across different datasets.\n",
        "    - Some exact methods (like Convex Hull and SVM) performed poorly on specific datasets, such as the Glass dataset, where they exhibited lower generalization capabilities.\n",
        "  - **Approximative Methods**:\n",
        "    - **Anderson’s Method** performed better than **Fisher’s Method** in terms of **topology size**, **convergence time**, and **generalization**.\n",
        "    - However, these methods did not reach the same level of generalization as the exact methods.\n",
        "\n",
        "\n",
        "#### **5.3 Performance of Individual Methods**\n",
        "\n",
        "1. **Simplex Method**:\n",
        "   - Produced the **smallest topologies** (fewer intermediate neurons) and had the **fastest convergence times** across most datasets.\n",
        "   - Achieved **robust generalization** performance but was not always the best in every dataset.\n",
        "   \n",
        "2. **Convex Hull**:\n",
        "   - Had mixed performance, showing good generalization in some datasets but poor results in others.\n",
        "   - Convergence times were generally slower than Simplex.\n",
        "   \n",
        "3. **SVM**:\n",
        "   - Showed **strong generalization** but slower convergence and larger topologies compared to Simplex.\n",
        "   \n",
        "4. **Perceptron**:\n",
        "   - Performed reasonably well but struggled with non-linearly separable datasets, as expected.\n",
        "   \n",
        "5. **Anderson and Fisher Methods**:\n",
        "   - Both approximative methods had **faster convergence** but at the cost of generalization.\n",
        "   - Anderson’s method showed better results overall compared to Fisher.\n",
        "\n",
        "\n",
        "#### **5.4 Dataset-Specific Observations**\n",
        "\n",
        "- **Iris Dataset**:\n",
        "  - Exact methods like Simplex and Convex Hull performed well, achieving near-perfect generalization and fast convergence.\n",
        "  - The **approximative methods** performed worse in terms of generalization, though they were faster.\n",
        "\n",
        "- **Soybean Dataset**:\n",
        "  - The **Incremental RDP** method was 65 times faster than the Batch method.\n",
        "  - **Modular Incremental** improved performance further by reducing the number of intermediate neurons required to achieve linear separability.\n",
        "\n",
        "- **Wisconsin Breast Cancer Dataset**:\n",
        "  - This dataset highlighted the inefficiencies of the **Batch method**, where Incremental was 506 times faster, and Modular Incremental achieved a performance boost of 1000 times compared to Batch.\n",
        "  - Both **Simplex** and **Anderson** methods were among the best performers for this dataset.\n",
        "\n",
        "\n",
        "#### **5.5 Comparison with Backpropagation and Cascade Correlation**\n",
        "\n",
        "- **Backpropagation** and **Cascade Correlation (CC)** algorithms were also evaluated for comparison.\n",
        "  - For the Iris dataset, Backpropagation showed slightly better generalization compared to the RDP methods, but Cascade Correlation performed worse.\n",
        "  - In the Soybean dataset, **RDP** methods showed more consistent performance with less variance in generalization compared to Backpropagation and Cascade Correlation.\n",
        "\n",
        "---\n"
      ],
      "metadata": {
        "id": "t50YRknSs_3O"
      }
    }
  ]
}